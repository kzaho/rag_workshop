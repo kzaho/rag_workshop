{
 "cells": [
  {
   "cell_type": "markdown",
   "source": [
    "# Vanilla RAG using Google Vertex AI"
   ],
   "metadata": {
    "collapsed": false
   },
   "id": "bc77ae2a133a0ef3"
  },
  {
   "cell_type": "markdown",
   "source": [
    "## GCP initialization"
   ],
   "metadata": {
    "collapsed": false
   },
   "id": "1710db36d77f5ab8"
  },
  {
   "cell_type": "code",
   "execution_count": 2,
   "outputs": [],
   "source": [
    "import os\n",
    "import vertexai\n",
    "\n",
    "\n",
    "project_id = \"llm-rag-407816\"\n",
    "location = \"us-central1\"\n",
    "# Initialize Vertex AI\n",
    "vertexai.init(project=project_id, location=location)"
   ],
   "metadata": {
    "collapsed": false,
    "ExecuteTime": {
     "end_time": "2024-04-10T10:04:32.469520100Z",
     "start_time": "2024-04-10T10:04:32.457011400Z"
    }
   },
   "id": "1bd16e478390ab90"
  },
  {
   "cell_type": "markdown",
   "source": [
    "## Data Retrieval"
   ],
   "metadata": {
    "collapsed": false
   },
   "id": "79eb626d717e8175"
  },
  {
   "cell_type": "markdown",
   "source": [
    "There are many ways to parse PDF and other formats, [here](https://python.langchain.com/docs/modules/data_connection/document_loaders/pdf/) u can see more"
   ],
   "metadata": {
    "collapsed": false
   },
   "id": "6afc5664e53c6e70"
  },
  {
   "cell_type": "code",
   "execution_count": 8,
   "outputs": [
    {
     "name": "stdout",
     "output_type": "stream",
     "text": [
      "['not-only-stand-with-ukraine-but-also-win-with-ukraine.pdf', 'pidtrymaty-ukrayinskyh-pidpryyemtsiv-za-kordonom-proyekt-studentiv-universytetu-notr-dam-ta-uku.pdf', 'putin-the-pilate.pdf', 'ukraine-stands-on-the-right-side-of-history.pdf', 'usu-foundation-welcomed-42-of-the-brightest-ukrainian-entrepreneurs-to-palo-alto-for-the-stanford-ignite-ukraine-program.pdf']\n"
     ]
    }
   ],
   "source": [
    "# Define the directory path\n",
    "directory_path = \"./data/docs\"\n",
    "\n",
    "# Get all file names in the specified directory\n",
    "file_names = os.listdir(directory_path)\n",
    "\n",
    "print(file_names)"
   ],
   "metadata": {
    "collapsed": false,
    "ExecuteTime": {
     "end_time": "2024-04-10T10:04:39.970865900Z",
     "start_time": "2024-04-10T10:04:39.899612600Z"
    }
   },
   "id": "21e0923883132b73"
  },
  {
   "cell_type": "code",
   "execution_count": 9,
   "outputs": [],
   "source": [
    "input_file_path = os.path.join(directory_path, file_names[0])"
   ],
   "metadata": {
    "collapsed": false,
    "ExecuteTime": {
     "end_time": "2024-04-10T10:04:39.984883700Z",
     "start_time": "2024-04-10T10:04:39.914671Z"
    }
   },
   "id": "3ef5c11cdaa306e4"
  },
  {
   "cell_type": "code",
   "execution_count": 10,
   "outputs": [
    {
     "data": {
      "text/plain": "Document(page_content='', metadata={'source': './data/docs\\\\not-only-stand-with-ukraine-but-also-win-with-ukraine.pdf', 'page': 0})"
     },
     "execution_count": 10,
     "metadata": {},
     "output_type": "execute_result"
    }
   ],
   "source": [
    "from langchain_community.document_loaders import PyPDFLoader\n",
    "loader = PyPDFLoader(input_file_path)\n",
    "data = loader.load()\n",
    "data[0]"
   ],
   "metadata": {
    "collapsed": false,
    "ExecuteTime": {
     "end_time": "2024-04-10T10:04:42.947206400Z",
     "start_time": "2024-04-10T10:04:39.929731800Z"
    }
   },
   "id": "73daf7010e2b766d"
  },
  {
   "cell_type": "markdown",
   "source": [
    "Since, page_content is empty, PyPDFLoader is not right choice for our case.\n",
    "Let`s try another way to parse PDF - PyMuPDFLoader"
   ],
   "metadata": {
    "collapsed": false
   },
   "id": "e8d138cc829740c"
  },
  {
   "cell_type": "code",
   "execution_count": 11,
   "outputs": [
    {
     "data": {
      "text/plain": "Document(page_content='', metadata={'source': './data/docs\\\\not-only-stand-with-ukraine-but-also-win-with-ukraine.pdf', 'file_path': './data/docs\\\\not-only-stand-with-ukraine-but-also-win-with-ukraine.pdf', 'page': 0, 'total_pages': 10, 'format': 'PDF 1.7', 'title': 'Not only «Stand with Ukraine» but also «Win with Ukraine» - UCU', 'author': 'Kostya Zahorulko', 'subject': '', 'keywords': '', 'creator': '', 'producer': 'Microsoft: Print To PDF', 'creationDate': \"D:20240409183252+03'00'\", 'modDate': \"D:20240409183252+03'00'\", 'trapped': ''})"
     },
     "execution_count": 11,
     "metadata": {},
     "output_type": "execute_result"
    }
   ],
   "source": [
    "from langchain_community.document_loaders import PyMuPDFLoader\n",
    "\n",
    "loader = PyMuPDFLoader(input_file_path)\n",
    "data = loader.load()\n",
    "data[0]"
   ],
   "metadata": {
    "collapsed": false,
    "ExecuteTime": {
     "end_time": "2024-04-10T10:04:43.132921600Z",
     "start_time": "2024-04-10T10:04:42.950211400Z"
    }
   },
   "id": "4d48221360a9355c"
  },
  {
   "cell_type": "markdown",
   "source": [
    "pymupdf is not working as well, let`s try another way to parse PDF - Unstructured\n",
    "\n",
    "but first, let`s install the required dependency - [Tesseract](https://github.com/UB-Mannheim/tesseract/wiki) and add tesseract path (in my case for Windows 11, \"C:\\Program Files\\Tesseract-OCR\") to the environment variable 'PATH'.\n",
    "Otherwise we will get an error:\n",
    "*TesseractNotFoundError: tesseract is not installed or it's not in your PATH. See README file for more information.*"
   ],
   "metadata": {
    "collapsed": false
   },
   "id": "9c9edc52ebd94439"
  },
  {
   "cell_type": "code",
   "execution_count": 12,
   "outputs": [],
   "source": [
    "from langchain_community.document_loaders import UnstructuredPDFLoader"
   ],
   "metadata": {
    "collapsed": false,
    "ExecuteTime": {
     "end_time": "2024-04-10T10:04:43.147980300Z",
     "start_time": "2024-04-10T10:04:43.134928100Z"
    }
   },
   "id": "66b22b5da11e53c3"
  },
  {
   "cell_type": "code",
   "execution_count": 13,
   "outputs": [
    {
     "name": "stderr",
     "output_type": "stream",
     "text": [
      "[nltk_data] Downloading package averaged_perceptron_tagger to\n",
      "[nltk_data]     C:\\Users\\kosty\\AppData\\Roaming\\nltk_data...\n",
      "[nltk_data]   Unzipping taggers\\averaged_perceptron_tagger.zip.\n"
     ]
    }
   ],
   "source": [
    "loader = UnstructuredPDFLoader(input_file_path)\n",
    "data = loader.load()"
   ],
   "metadata": {
    "collapsed": false,
    "ExecuteTime": {
     "end_time": "2024-04-10T10:05:06.995997100Z",
     "start_time": "2024-04-10T10:04:43.148981800Z"
    }
   },
   "id": "8d85ef8fdd9c5e60"
  },
  {
   "cell_type": "code",
   "execution_count": 15,
   "outputs": [
    {
     "data": {
      "text/plain": "Document(page_content=\"~)\\n\\nCBACKSHOmE: ff Wo &\\n\\nNot only «Stand with Ukraine» but also «Win with Ukraine»\\n\\nWEDHES a APRIL, 2026\\n\\nThe Russia-Ukraine tvar has geopolitical significance. Russia‘s imperial aspirations, which are clearly seen in its history and culture through the centuries, reach far beyond the borders af Ukraine. Russia is a threat to the security of all Europe and the world. Ukraine is today paying a great price to hold back the enemy - tens of thousands of lives of Ukraine's best sons aml daughters and millions of broken destinies and physical and spiritual wounds. Hows lame will this last? Ukraine cammot win this war without the consolidation of the demacratic world. Taday it is mot enough simply ta stand with Ukraime - it's mecessary to win with Uleraime!\\n\\n“try does Russian culture, the culture of empire, threaten the whole world? -\\n\\nce\\n\\nIria Starewoyt, poetess, literary schalar, ancl assistant prefessor at the Culture Studies\\n\\nDepartment of Ukrainian Catholic University, explains,\\n\\nIt fas happened histerically that Russian culture wa\\n\\nwerlel, fut, in fact, it\\n\\nite the aggress! after\\n\\nDesp 2014, of Ru Russi\\n\\nanid ever ssian culture a a’s threat te U is better recognized\\n\\nlin tH repeated inthe his\\n\\ncultural discussians |\\n\\nfull-scale aggression agai\\n\\nIf we go tack a classics already po scholar Ev\\n\\nliterary wal\\n\\nm\\n\\n‘, ap eyuetenrtera “oi ATOUMEIEE! HUSSAM\\n\\nrs)\\n\\nt\\n\\nliterature im the Ru\\n\\nwo wn\\n\\nworks at the reques\\n\\npald them honoraria,\\n\\ncanon. 4nd what wer skillfully it\\n\\nquintessence of\\n\\na 4\\n\\nhice as\\n\\nqe2,\\n\\nInd\\n\\nWel\\n\\nbut in ewery his was all and\\n\\ns that Ukraine\\n\\nRuss\\n\\nnot creating thel\\n\\nUleraimian culture is\\n\\nand territle\\n\\nthe Russian Empire,\\n\\n=\\n\\nre-estanlist |\\n\\nkralne is not only that it has a s war, Russians have\\n\\ncer”\\n\\nfew cl\\n\\nthe Sewiet Un\\n\\ny cen\\n\\nia destroyed arc clestreys Ukraine's creators, and sa they are mot writing their Best tes\\n\\nimes, lini\\n\\ns always Russia's ebusimess cards inthe astreen which covered so much evil ane unpunished wronmgdeing,\\n\\ncidal war which Russia has been waging against Ukraine sinc tne full-scale in\\n\\nnd often separates it from what the Russian government is doing. S\\n\\nWel\\n\\nwil €\\n\\nwe, Gene\\n\\nsian of 24 February 2032, the world is still in admiration\\n\\npopulation a few times larger but also ‘that it\\n\\nairicl lerrewwer.\\n\\nnsnown their hatred of Ukraine, which has more thar once beer\\n\\n“f C7\\n\\nagal of the relations of beth countries. 4nd the questien, rooted in various\\n\\ncy\\n\\nigs lS ary te ecancele Russian culture in connection with Russia’s\\n\\nneces.\\n\\nit nist Ukraine?\\n\\nerican\\n\\nleca little mere than a cemtury back, then we see that wearld\\n\\neel thompson in her book ateut mperiat ism in Russian literature Sn gerial ter -\\n\\ny fet Ge imperial, for Russian authors wrote their\\n\\nces, ar a\\n\\nver\\n\\nse\\n\\niY\\n\\nimilar questions, thougn Russian classic eldam lid. &\\n\\nwe\\n\\nclear mat\\n\\n{ites | writes about a gainfully\\n\\nhe\\n\\nSlat\\n\\ntofthe empire, to a great extent for its service and promotion. The enpire\\n\\npresented prizes and awards, and put certain mames ancl texts inte its | oy definition, could rot be mot imperial. Another\\n\\ns reflect the innocent\\n\\nTinta the camen thing is\\n\\nfossidiet a create the illusion that these tex /EITITESS.,\\n\\nvier was created; by cultural indices, it was the heir of the Russian Empire\\n\\nied its imperial nature and for the first few years did not demonstrate it.\\n\\nillusian arid in no way did Russia plan to let Ukraine go, Russia’s idea was\\n\\nand Ukrainians did rot and ceuld met exist.\\n\\nr greatest masterpieces and not making great discoveries. This is a tragedy.\\n\\ndark\\n\\nreve. Im the current war against\\n\\nlike Moah’s ark: it has already a number of times sailed through very\\n\\nwhich many material things did mot su\\n\\nUkrainians have gone from tragedy te conflict. We must save our heme and\\n\\nVRAIN AMS SAW Mak Pet UII TEM TE Seb LI | aT ede) LI We Te PUI EWE Gl Tibet pis Ch) Gre worlel. The situation teclay is cardinally different. There is a desire in the werld to fine out who Ukrainians are and how they managed to hold out in the first days, weeks, months of the full- scale invasiar. Mt seems te me that today the wiridew of agportunities for Ukrainianization in\\n\\nthe world is open as never before. And many people who greviously fad rie conmmection te Ukraine want to came to us ane stucly Ukrainian language and culture. We feel great interest, solidarity, and empathy.\\n\\nThe War in Ukraine [S | ee\\n\\nUniversity\\n\\nThe war has shown that among the main challenges for Ukraine are the education and healthcare systems.\\n\\neducational institutions 3 793 have been destroyed or damaged\\n\\nhealthcare facilities 1449 have been destroyed or damaged in Eastern and Central Ukraine\\n\\nincluding 367 hospitals\\n\\nEstimates of costs for rebuilding Ukraine\\n\\n$400 billion - 1 trillion\\n\\nRussia's global threat as unpunished evil\\n\\nUkrainian culture today is culture at the scene ofthe crime, It is krrown from the theary of collective trauma that trauma /s surrounded by silence. In Ukrainian history, on the one hand, there was internal silence, because sametimes there were rot worcls to compretend and describe the ruinous reality. But, on the otner hand, it was through external silence,\\n\\ncensorship, which farticd speaking of terrible crimes ofthe 20th century like the Holodomear, the Holecaust, dapertations... These traumas have et teem processed or talked through, for\\n\\nIn the mary centuries of suffering, detractars described Ukrainians as victims ane did not. expect from them independence, self-reliance, or vitality. Te tell the truth, Ukrainians themselves thougtt this way about themselves. But in the first days of Russia‘s full-scale invasion, they did semething incredible: they rejected the status of victims. This became a Great surprise far the world, Today's war, im fact, forced the change of very many established sterecty pes.\\n\\nUkrainian culture ane literature chose for itself the mode of witnessing, Ukrainian poets ane writers write about the difficult experiences of war, things abeut which their predecessors\\n\\noften did net want to speak, and they said: «You don't need te know that. We suffered through\\n\\nthat so that nothing similar would ewer happen to yous But the motte of Western and Central Eurepe, “never again,’ alreacly nas no meaning, because the warst has happened again...\\n\\nWhen they ask me what Ukrainian society should be most afraid of | answer that tne war will end but justice will not be achieved. Ukrainians are mot afraid of the Terrible Judgment but rather terror rot judged, because then unpunished evil can return again and again. Until a\\n\\ngreat trial rappers in The Hague, for us «The Hague is only in literature. Today so many ee Works are appearing whict greach to the world. Ukrainians have finally understood themselves\\n\\ntA\\n\\na planetary culture. «The werlds is not haggening ethere somewheres but in Uleraime.\\n\\nItis mew extremely important that the world understand that it is met enough te stand with\\n\\nUkrainians, fut it's necessary to triumph together with them, net only eStand with Ukraines\\n\\nbut «iin with Ukraine. Cinerwise, the Russian existential threat soaner or later will male its\\n\\nway to other countries. Ukraine now is Europe's shield,\\n\\nSe)\\n\\nDigest of events and news\\n\\nGet the weekly newsletter of UCU events and news\\n\\nin your mailbox SUBSCRIBE\\n\\nYou will be interested\\n\\nFR GAY, § AFR L, 2024\\n\\nPutin the Pilate\\n\\nWECDME APRIL, 2026\\n\\n“Stand with Ukraine tut alse Win with Ukraimess:\\n\\nHot only\\n\\n24\\n\\nUCU Foundation Welcomed 42 of the Brigttest Ukrainian Entrepreneurs te...\\n\\nWECDHE Sugperting Ukrainian entrepreneurs abroad - & praject of students af.\\n\\nWHR\\n\\nWHR\\n\\nWHR\\n\\nSecretariat of UCU Sventsitsky str., 17\\n\\nSUPPORT US 7\\n\\nBECOME & STUDENT\\n\\nG\", metadata={'source': './data/docs\\\\not-only-stand-with-ukraine-but-also-win-with-ukraine.pdf'})"
     },
     "execution_count": 15,
     "metadata": {},
     "output_type": "execute_result"
    }
   ],
   "source": [
    "data[0]"
   ],
   "metadata": {
    "collapsed": false,
    "ExecuteTime": {
     "end_time": "2024-04-10T10:05:15.493543Z",
     "start_time": "2024-04-10T10:05:15.460541200Z"
    }
   },
   "id": "80f637144ab8482c"
  },
  {
   "cell_type": "markdown",
   "source": [
    "We parsed the PDF file successfully. To get more sufficient results, try to use [Google Vision API](https://cloud.google.com/vision/docs/pdf)"
   ],
   "metadata": {
    "collapsed": false
   },
   "id": "a1f0f7f9a847e83c"
  },
  {
   "cell_type": "code",
   "execution_count": 16,
   "outputs": [],
   "source": [
    "from langchain.text_splitter import RecursiveCharacterTextSplitter\n",
    "\n",
    "# split the documents into chunks\n",
    "text_splitter = RecursiveCharacterTextSplitter(\n",
    "    chunk_size=1000,\n",
    "    chunk_overlap=50,\n",
    "    separators=[\"\\n\\n\", \"\\n\", \".\", \"!\", \"?\", \",\", \" \", \"\"],\n",
    ")\n",
    "\n",
    "chunks = text_splitter.split_documents(data)"
   ],
   "metadata": {
    "collapsed": false,
    "ExecuteTime": {
     "end_time": "2024-04-10T10:11:56.544004600Z",
     "start_time": "2024-04-10T10:11:56.535004500Z"
    }
   },
   "id": "c09a5575547f9716"
  },
  {
   "cell_type": "code",
   "execution_count": 18,
   "outputs": [
    {
     "data": {
      "text/plain": "9"
     },
     "execution_count": 18,
     "metadata": {},
     "output_type": "execute_result"
    }
   ],
   "source": [
    "len(chunks)"
   ],
   "metadata": {
    "collapsed": false,
    "ExecuteTime": {
     "end_time": "2024-04-10T10:12:08.395252500Z",
     "start_time": "2024-04-10T10:12:08.379252600Z"
    }
   },
   "id": "52c2dbecf96583cb"
  },
  {
   "cell_type": "code",
   "execution_count": 17,
   "outputs": [
    {
     "data": {
      "text/plain": "Document(page_content=\"~)\\n\\nCBACKSHOmE: ff Wo &\\n\\nNot only «Stand with Ukraine» but also «Win with Ukraine»\\n\\nWEDHES a APRIL, 2026\\n\\nThe Russia-Ukraine tvar has geopolitical significance. Russia‘s imperial aspirations, which are clearly seen in its history and culture through the centuries, reach far beyond the borders af Ukraine. Russia is a threat to the security of all Europe and the world. Ukraine is today paying a great price to hold back the enemy - tens of thousands of lives of Ukraine's best sons aml daughters and millions of broken destinies and physical and spiritual wounds. Hows lame will this last? Ukraine cammot win this war without the consolidation of the demacratic world. Taday it is mot enough simply ta stand with Ukraime - it's mecessary to win with Uleraime!\\n\\n“try does Russian culture, the culture of empire, threaten the whole world? -\\n\\nce\\n\\nIria Starewoyt, poetess, literary schalar, ancl assistant prefessor at the Culture Studies\\n\\nDepartment of Ukrainian Catholic University, explains,\", metadata={'source': './data/docs\\\\not-only-stand-with-ukraine-but-also-win-with-ukraine.pdf'})"
     },
     "execution_count": 17,
     "metadata": {},
     "output_type": "execute_result"
    }
   ],
   "source": [
    "chunks[0]"
   ],
   "metadata": {
    "collapsed": false,
    "ExecuteTime": {
     "end_time": "2024-04-10T10:12:00.714408600Z",
     "start_time": "2024-04-10T10:12:00.698410Z"
    }
   },
   "id": "8b4bb08a0e81cd58"
  },
  {
   "cell_type": "code",
   "execution_count": 28,
   "outputs": [],
   "source": [
    "pages_content = [doc.page_content for doc in chunks]"
   ],
   "metadata": {
    "collapsed": false,
    "ExecuteTime": {
     "end_time": "2024-04-10T10:23:13.707584800Z",
     "start_time": "2024-04-10T10:23:13.686586900Z"
    }
   },
   "id": "b5597782685f576a"
  },
  {
   "cell_type": "markdown",
   "source": [
    "## Embeddings"
   ],
   "metadata": {
    "collapsed": false
   },
   "id": "db10f0286bc6542d"
  },
  {
   "cell_type": "code",
   "execution_count": 33,
   "outputs": [],
   "source": [
    "from vertexai.language_models import TextEmbeddingModel"
   ],
   "metadata": {
    "collapsed": false,
    "ExecuteTime": {
     "end_time": "2024-04-10T10:29:17.073464500Z",
     "start_time": "2024-04-10T10:29:17.059463900Z"
    }
   },
   "id": "e3519bc2fcb7d435"
  },
  {
   "cell_type": "code",
   "execution_count": 45,
   "outputs": [],
   "source": [
    "# To match existing method get_embeddings from TextEmbeddingModel to Chroma.from_documents embedding_function input,\n",
    "# which is langchain_community.embeddings.sentence_transformer.SentenceTransformerEmbeddings\n",
    "\n",
    "class CustomTextEmbeddingModel(TextEmbeddingModel):\n",
    "    def embed_documents(self, documents):\n",
    "        # Directly use or extend the functionality of get_embeddings\n",
    "        embeddings = self.get_embeddings(documents)\n",
    "        embeddings = [embedding.values for embedding in embeddings]\n",
    "        return embeddings\n",
    "    \n",
    "    def embed_query(self, query):\n",
    "        # Directly use or extend the functionality of get_embeddings\n",
    "        embeddings = self.get_embeddings([query])\n",
    "        return embeddings[0].values"
   ],
   "metadata": {
    "collapsed": false,
    "ExecuteTime": {
     "end_time": "2024-04-10T10:38:05.870397800Z",
     "start_time": "2024-04-10T10:38:05.850396100Z"
    }
   },
   "id": "d97f0dcf67f23685"
  },
  {
   "cell_type": "code",
   "execution_count": 46,
   "outputs": [
    {
     "name": "stdout",
     "output_type": "stream",
     "text": [
      "Length of Embedding Vector: 768\n"
     ]
    }
   ],
   "source": [
    "# https://cloud.google.com/vertex-ai/generative-ai/docs/model-reference/text-embeddings\n",
    "embedding_model = CustomTextEmbeddingModel.from_pretrained(\"textembedding-gecko-multilingual@001\")\n",
    "embeddings = embedding_model.get_embeddings(pages_content)\n",
    "print(f\"Length of Embedding Vector: {len(embeddings[0].values)}\")"
   ],
   "metadata": {
    "collapsed": false,
    "ExecuteTime": {
     "end_time": "2024-04-10T10:38:29.316852Z",
     "start_time": "2024-04-10T10:38:27.361707200Z"
    }
   },
   "id": "c3b063328f05c175"
  },
  {
   "cell_type": "code",
   "execution_count": 47,
   "outputs": [],
   "source": [
    "from langchain.vectorstores import Chroma\n",
    "\n",
    "# Turn the chunks into embeddings and store them in Chroma\n",
    "vectordb = Chroma.from_documents(chunks, embedding_model, persist_directory=\"./chroma_db\")\n",
    "\n",
    "# Configure Chroma as a retriever with top_k=5\n",
    "retriever = vectordb.as_retriever(search_kwargs={\"k\": 5})"
   ],
   "metadata": {
    "collapsed": false,
    "ExecuteTime": {
     "end_time": "2024-04-10T10:38:31.123831500Z",
     "start_time": "2024-04-10T10:38:30.557691100Z"
    }
   },
   "id": "2100d2eb099d1466"
  },
  {
   "cell_type": "code",
   "execution_count": 48,
   "outputs": [
    {
     "data": {
      "text/plain": "[Document(page_content=\"~)\\n\\nCBACKSHOmE: ff Wo &\\n\\nNot only «Stand with Ukraine» but also «Win with Ukraine»\\n\\nWEDHES a APRIL, 2026\\n\\nThe Russia-Ukraine tvar has geopolitical significance. Russia‘s imperial aspirations, which are clearly seen in its history and culture through the centuries, reach far beyond the borders af Ukraine. Russia is a threat to the security of all Europe and the world. Ukraine is today paying a great price to hold back the enemy - tens of thousands of lives of Ukraine's best sons aml daughters and millions of broken destinies and physical and spiritual wounds. Hows lame will this last? Ukraine cammot win this war without the consolidation of the demacratic world. Taday it is mot enough simply ta stand with Ukraime - it's mecessary to win with Uleraime!\\n\\n“try does Russian culture, the culture of empire, threaten the whole world? -\\n\\nce\\n\\nIria Starewoyt, poetess, literary schalar, ancl assistant prefessor at the Culture Studies\\n\\nDepartment of Ukrainian Catholic University, explains,\", metadata={'source': './data/docs\\\\not-only-stand-with-ukraine-but-also-win-with-ukraine.pdf'}),\n Document(page_content=\"~)\\n\\nCBACKSHOmE: ff Wo &\\n\\nNot only «Stand with Ukraine» but also «Win with Ukraine»\\n\\nWEDHES a APRIL, 2026\\n\\nThe Russia-Ukraine tvar has geopolitical significance. Russia‘s imperial aspirations, which are clearly seen in its history and culture through the centuries, reach far beyond the borders af Ukraine. Russia is a threat to the security of all Europe and the world. Ukraine is today paying a great price to hold back the enemy - tens of thousands of lives of Ukraine's best sons aml daughters and millions of broken destinies and physical and spiritual wounds. Hows lame will this last? Ukraine cammot win this war without the consolidation of the demacratic world. Taday it is mot enough simply ta stand with Ukraime - it's mecessary to win with Uleraime!\\n\\n“try does Russian culture, the culture of empire, threaten the whole world? -\\n\\nce\\n\\nIria Starewoyt, poetess, literary schalar, ancl assistant prefessor at the Culture Studies\\n\\nDepartment of Ukrainian Catholic University, explains,\", metadata={'source': './data/docs\\\\not-only-stand-with-ukraine-but-also-win-with-ukraine.pdf'}),\n Document(page_content=\"In the mary centuries of suffering, detractars described Ukrainians as victims ane did not. expect from them independence, self-reliance, or vitality. Te tell the truth, Ukrainians themselves thougtt this way about themselves. But in the first days of Russia‘s full-scale invasion, they did semething incredible: they rejected the status of victims. This became a Great surprise far the world, Today's war, im fact, forced the change of very many established sterecty pes.\\n\\nUkrainian culture ane literature chose for itself the mode of witnessing, Ukrainian poets ane writers write about the difficult experiences of war, things abeut which their predecessors\\n\\noften did net want to speak, and they said: «You don't need te know that. We suffered through\\n\\nthat so that nothing similar would ewer happen to yous But the motte of Western and Central Eurepe, “never again,’ alreacly nas no meaning, because the warst has happened again...\", metadata={'source': './data/docs\\\\not-only-stand-with-ukraine-but-also-win-with-ukraine.pdf'}),\n Document(page_content=\"In the mary centuries of suffering, detractars described Ukrainians as victims ane did not. expect from them independence, self-reliance, or vitality. Te tell the truth, Ukrainians themselves thougtt this way about themselves. But in the first days of Russia‘s full-scale invasion, they did semething incredible: they rejected the status of victims. This became a Great surprise far the world, Today's war, im fact, forced the change of very many established sterecty pes.\\n\\nUkrainian culture ane literature chose for itself the mode of witnessing, Ukrainian poets ane writers write about the difficult experiences of war, things abeut which their predecessors\\n\\noften did net want to speak, and they said: «You don't need te know that. We suffered through\\n\\nthat so that nothing similar would ewer happen to yous But the motte of Western and Central Eurepe, “never again,’ alreacly nas no meaning, because the warst has happened again...\", metadata={'source': './data/docs\\\\not-only-stand-with-ukraine-but-also-win-with-ukraine.pdf'})]"
     },
     "execution_count": 48,
     "metadata": {},
     "output_type": "execute_result"
    }
   ],
   "source": [
    "# Example of the DB usage for similarity_search\n",
    "vectordb.similarity_search(\"«Stand with Ukraine» but also «Win with Ukraine»\")"
   ],
   "metadata": {
    "collapsed": false,
    "ExecuteTime": {
     "end_time": "2024-04-10T10:38:34.385227800Z",
     "start_time": "2024-04-10T10:38:34.122213200Z"
    }
   },
   "id": "70e84c1d9b5a6925"
  },
  {
   "cell_type": "markdown",
   "source": [
    "## LLM"
   ],
   "metadata": {
    "collapsed": false
   },
   "id": "2f974a8fd1d9b529"
  },
  {
   "cell_type": "code",
   "execution_count": 56,
   "outputs": [],
   "source": [
    "from langchain_google_vertexai import VertexAI\n",
    "\n",
    "\n",
    "# https://cloud.google.com/vertex-ai/generative-ai/docs/model-reference/text\n",
    "llm = VertexAI(\n",
    "    model_name=\"text-bison@002\",\n",
    "    max_output_tokens=1024,\n",
    "    temperature=0,\n",
    "    top_p=0.8,\n",
    "    top_k=40,\n",
    "    verbose=False,\n",
    "    streaming=False\n",
    ")"
   ],
   "metadata": {
    "collapsed": false,
    "ExecuteTime": {
     "end_time": "2024-04-10T11:07:33.957375100Z",
     "start_time": "2024-04-10T11:07:31.961670700Z"
    }
   },
   "id": "88cf8d3beb61ebc9"
  },
  {
   "cell_type": "code",
   "execution_count": 57,
   "outputs": [
    {
     "data": {
      "text/plain": "' \"Stand with Ukraine\" and \"Win with Ukraine\" are two slogans that have been used to express support for Ukraine during the ongoing conflict with Russia.\\n\\n\"Stand with Ukraine\" is a call for solidarity with the Ukrainian people and their government. It is a statement of support for Ukraine\\'s sovereignty and territorial integrity, and a condemnation of Russia\\'s aggression.\\n\\n\"Win with Ukraine\" is a more proactive slogan that calls for Ukraine to emerge victorious from the conflict. It is a statement of confidence in Ukraine\\'s ability to defend itself and defeat Russia.\\n\\nBoth slogans are valid expressions of support for Ukraine, and they can be used in different contexts to convey different messages. \"Stand with Ukraine\" is a more general statement of support, while \"Win with Ukraine\" is a more specific call for action.\\n\\nUltimately, the best way to support Ukraine is to do what you can to help the Ukrainian people and their government. This could include donating to charities that are providing aid to Ukraine, writing to your elected officials to express your support for Ukraine, or simply spreading awareness of the conflict and its impact on the Ukrainian people.'"
     },
     "execution_count": 57,
     "metadata": {},
     "output_type": "execute_result"
    }
   ],
   "source": [
    "llm.invoke(\"«Stand with Ukraine» but also «Win with Ukraine»\")"
   ],
   "metadata": {
    "collapsed": false,
    "ExecuteTime": {
     "end_time": "2024-04-10T11:08:04.625224400Z",
     "start_time": "2024-04-10T11:08:02.222586900Z"
    }
   },
   "id": "bec8f193902fe592"
  },
  {
   "cell_type": "markdown",
   "source": [
    "## RAG"
   ],
   "metadata": {
    "collapsed": false
   },
   "id": "5105baed1ea66ae7"
  },
  {
   "cell_type": "code",
   "execution_count": 58,
   "outputs": [],
   "source": [
    "from langchain.chains import RetrievalQA"
   ],
   "metadata": {
    "collapsed": false,
    "ExecuteTime": {
     "end_time": "2024-04-10T11:08:26.882470800Z",
     "start_time": "2024-04-10T11:08:26.869469500Z"
    }
   },
   "id": "ef97d1f2c8e81e8"
  },
  {
   "cell_type": "code",
   "execution_count": 59,
   "outputs": [],
   "source": [
    "def get_qa_chain(db_retriever, llm, prompt_template, verbose=False):\n",
    "    qa_chain = RetrievalQA.from_chain_type(\n",
    "        llm=llm,\n",
    "        chain_type=\"stuff\",\n",
    "        retriever=db_retriever,\n",
    "        return_source_documents=True,\n",
    "        verbose=verbose,\n",
    "        chain_type_kwargs={\n",
    "            \"prompt\": prompt_template,\n",
    "        },\n",
    "        # callbacks=[AsyncIteratorCallbackHandler()]\n",
    "    )\n",
    "    # Enable for troubleshooting\n",
    "    qa_chain.combine_documents_chain.verbose = verbose\n",
    "    # this prints the prompt in green\n",
    "    qa_chain.combine_documents_chain.llm_chain.verbose = verbose\n",
    "    qa_chain.combine_documents_chain.llm_chain.llm.verbose = verbose\n",
    "    return qa_chain"
   ],
   "metadata": {
    "collapsed": false,
    "ExecuteTime": {
     "end_time": "2024-04-10T11:08:29.486642700Z",
     "start_time": "2024-04-10T11:08:29.469589400Z"
    }
   },
   "id": "e08adb5fd14b372e"
  },
  {
   "cell_type": "code",
   "execution_count": 70,
   "outputs": [],
   "source": [
    "from langchain_core.prompts import PromptTemplate\n",
    "\n",
    "prompt = PromptTemplate.from_template(\"\"\"\n",
    "You are a helpful AI assistant.\n",
    "Answer based on the context provided. \n",
    "context: {context}\n",
    "input: {question}\n",
    "answer:\n",
    "\"\"\")"
   ],
   "metadata": {
    "collapsed": false,
    "ExecuteTime": {
     "end_time": "2024-04-10T11:11:55.516956700Z",
     "start_time": "2024-04-10T11:11:55.506959Z"
    }
   },
   "id": "cf29b812b0b2d7c4"
  },
  {
   "cell_type": "code",
   "execution_count": 71,
   "outputs": [],
   "source": [
    "qa_chain = get_qa_chain(retriever, llm, prompt)"
   ],
   "metadata": {
    "collapsed": false,
    "ExecuteTime": {
     "end_time": "2024-04-10T11:11:55.793813200Z",
     "start_time": "2024-04-10T11:11:55.778812700Z"
    }
   },
   "id": "4ace593281eb145a"
  },
  {
   "cell_type": "code",
   "execution_count": 72,
   "outputs": [],
   "source": [
    "response = qa_chain.invoke(\n",
    "    input={\"query\": \"Tell me about last event at UCU on «Stand with Ukraine» vs «Win with Ukraine»\"}\n",
    ")"
   ],
   "metadata": {
    "collapsed": false,
    "ExecuteTime": {
     "end_time": "2024-04-10T11:11:58.468163700Z",
     "start_time": "2024-04-10T11:11:56.031033Z"
    }
   },
   "id": "736f2d4f1c38de9a"
  },
  {
   "cell_type": "code",
   "execution_count": 74,
   "outputs": [
    {
     "data": {
      "text/plain": "dict_keys(['query', 'result', 'source_documents'])"
     },
     "execution_count": 74,
     "metadata": {},
     "output_type": "execute_result"
    }
   ],
   "source": [
    "response.keys()"
   ],
   "metadata": {
    "collapsed": false,
    "ExecuteTime": {
     "end_time": "2024-04-10T11:12:15.151724400Z",
     "start_time": "2024-04-10T11:12:15.133726500Z"
    }
   },
   "id": "cd05e7aa66097775"
  },
  {
   "cell_type": "code",
   "execution_count": 75,
   "outputs": [
    {
     "name": "stdout",
     "output_type": "stream",
     "text": [
      " The latest event at the Ukrainian Catholic University (UCU) focused on the theme of \"Stand with Ukraine\" versus \"Win with Ukraine.\" The event highlighted the geopolitical significance of the Russia-Ukraine war and emphasized that Russia's imperial aspirations pose a threat to the security of Europe and the world.\n",
      "\n",
      "The discussion centered around the idea that Ukraine is currently paying a significant price to hold back the Russian aggression, with numerous casualties and widespread devastation. The speakers stressed the importance of global solidarity and support for Ukraine, arguing that it is not enough to simply stand with Ukraine, but rather to actively work towards a Ukrainian victory.\n",
      "\n",
      "The event featured insights from Iryna Starovoit, a poetess, literary scholar, and assistant professor at the Culture Studies Department of UCU. She provided an analysis of Russian culture and its imperialistic tendencies, explaining how they contribute to the threat posed by Russia to the world.\n",
      "\n",
      "Overall, the event aimed to raise awareness about the ongoing conflict in Ukraine and emphasized the need for international collaboration and support to ensure Ukraine's victory and safeguard global security.\n"
     ]
    }
   ],
   "source": [
    "#Print the answer to the question\n",
    "print(response[\"result\"])"
   ],
   "metadata": {
    "collapsed": false,
    "ExecuteTime": {
     "end_time": "2024-04-10T11:12:21.896274300Z",
     "start_time": "2024-04-10T11:12:21.875275100Z"
    }
   },
   "id": "5ffa5806650231a7"
  },
  {
   "cell_type": "code",
   "execution_count": 77,
   "outputs": [
    {
     "data": {
      "text/plain": "[{'source': './data/docs\\\\not-only-stand-with-ukraine-but-also-win-with-ukraine.pdf'},\n {'source': './data/docs\\\\not-only-stand-with-ukraine-but-also-win-with-ukraine.pdf'},\n {'source': './data/docs\\\\not-only-stand-with-ukraine-but-also-win-with-ukraine.pdf'},\n {'source': './data/docs\\\\not-only-stand-with-ukraine-but-also-win-with-ukraine.pdf'},\n {'source': './data/docs\\\\not-only-stand-with-ukraine-but-also-win-with-ukraine.pdf'}]"
     },
     "execution_count": 77,
     "metadata": {},
     "output_type": "execute_result"
    }
   ],
   "source": [
    "[doc.metadata for doc in response[\"source_documents\"]]"
   ],
   "metadata": {
    "collapsed": false,
    "ExecuteTime": {
     "end_time": "2024-04-10T11:13:04.068505100Z",
     "start_time": "2024-04-10T11:13:04.050505Z"
    }
   },
   "id": "bf6a581b43c1c671"
  },
  {
   "cell_type": "code",
   "execution_count": null,
   "outputs": [],
   "source": [],
   "metadata": {
    "collapsed": false
   },
   "id": "40715990d2be2be0"
  }
 ],
 "metadata": {
  "kernelspec": {
   "display_name": "Python 3",
   "language": "python",
   "name": "python3"
  },
  "language_info": {
   "codemirror_mode": {
    "name": "ipython",
    "version": 2
   },
   "file_extension": ".py",
   "mimetype": "text/x-python",
   "name": "python",
   "nbconvert_exporter": "python",
   "pygments_lexer": "ipython2",
   "version": "2.7.6"
  }
 },
 "nbformat": 4,
 "nbformat_minor": 5
}
